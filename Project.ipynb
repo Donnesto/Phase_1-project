{
 "cells": [
  {
   "cell_type": "markdown",
   "metadata": {},
   "source": [
    "# Microsoft's foray into the entertainment industry: A detailed analysis\n",
    "# 1.Business Understanding\n",
    "# a)Introduction\n",
    "\n",
    "In a move to ride the wave of the popular trend in original video content and expand its footprints in the entertainment industry, Microsoft has decided to launch its very own movie studio. However, being newcomers to the film world, Microsoft is still trying to discover what makes a movie successful.To tackle this challenge head-on, a comprehensive data analysis is neccessary to uncover the secrets of successful films, thereby informing strategic decisions for this new venture.\n",
    "\n",
    "The main aim of this analysis is to uncover the common factors among successful movies. This in-depth exploration will dive into historical data, genre trends, and audience preferences to provide actionable insights that guide the studio's content creation and production strategies. The ultimate goal is to provide practical advice to guide Microsoft's new movie studio as a global tech powerhouse, is strategically stepping into the entertainment arena, leveraging its tech expertise to create visually captivating and immersive film content.\n",
    "\n",
    "\n",
    "\n",
    "\n",
    "\n"
   ]
  },
  {
   "cell_type": "markdown",
   "metadata": {},
   "source": [
    "# b)Defining the Metric for Success \n",
    "In navigating the intricate landscape of film production, our challenge lies in leveraging market research and consumer insights to not only inform strategic decision-making but also enhance the financial performance of our film productions. Identifying untapped market opportunities and tailoring films to meet the specific demands of target audiences is paramount for sustained success in the dynamic entertainment industry. The success of our analysis will be measured by considering the following metrics:\n",
    "\n",
    "Box Office Performance:In regarding revenue generation,this analysis should center on identifying film genres that exhibit the highest box office revenue generation.\n",
    "\n",
    "Market Research : The effectiveness of our market research efforts will be gauged by our ability to uncover valuable consumer insights that directly influence decision-making and financial outcomes.\n",
    "\n",
    "Target Audience Alignment: Success metrics will be based on how well our films align with the demands and preferences of specific target audiences, ensuring a tailored and resonant cinematic experience. \n",
    "\n",
    "\n",
    "\n",
    " "
   ]
  },
  {
   "cell_type": "markdown",
   "metadata": {},
   "source": [
    "# c)Main Objective\n",
    "\n",
    "\n",
    "The main objective of the analysis for Microsoft's movie studio project is to identify the types of films that have been most successful in terms of generating high box office revenue. The analysis aims to leverage market research, consumer insights, and collaboration with industry professionals to inform decision-making. Additionally, the analysis seeks to strike a balance between creativity and data-driven approaches, ultimately guiding the studio in producing films that resonate with audiences and achieve financial success in the dynamic landscape of the entertainment industry.\n",
    "\n",
    "  # Specific objectives \n",
    "Genre Identification: Determine the film genres that have historically performed well in terms of generating high box office revenue.\n",
    "\n",
    "Market Research Utilization: Effectively use market research and consumer insights to inform decision-making in the production process.\n",
    "\n",
    "Audience Targeting: Identify and understand target audiences, tailoring films to meet the specific demands and preferences of diverse viewer segments. \n",
    "\n",
    "Cultural Impact: Explore the potential for films to have a positive cultural impact, contributing to the broader cultural landscape and potentially enhancing the country's economic growth and development.\n"
   ]
  },
  {
   "cell_type": "markdown",
   "metadata": {},
   "source": [
    "# d)Experimental Design\n",
    "Data Collection: Collect data on the highest-grossing movies.Use data sources to obtain this information that includes variables such as genre, release year, production budget, and domestic gross revenue.\n",
    "\n",
    "Data Cleaning: Preprocess the data to clean and standardize it. Remove any duplicate records and fill in missing values with the mean or median. Ensure that all categorical variables are represented in a standardized format.\n",
    "\n",
    "Exploratory Data Analysis: To understand the patterns and trends in the data. This can include examining the relationship between movie features like genre, release year, and production budget with their box office revenue.\n",
    "\n",
    "Analysis and visualizations: Visualize the data using charts like bar graphs and histograms to gain insights into the top-grossing films.\n",
    "\n",
    "Conclusions and Presentation : Presenting the finding and explain the patterns and trends identified in the data, and discuss the implications for future film production. Suggest potential areas of improvement or expansion, such as exploring international markets, incorporating audience feedback, or leveraging data-driven strategies for film marketing and distribution."
   ]
  },
  {
   "cell_type": "markdown",
   "metadata": {},
   "source": [
    "# d)Data Relevance \n"
   ]
  },
  {
   "cell_type": "markdown",
   "metadata": {},
   "source": [
    "# 2.Reading the Data  \n"
   ]
  },
  {
   "cell_type": "code",
   "execution_count": 12,
   "metadata": {},
   "outputs": [],
   "source": [
    "#import standard packages\n",
    "import pandas as pd\n",
    "import numpy as np \n",
    "import csv\n",
    "import matplotlib.pyplot as plt\n",
    "import seaborn as sns\n"
   ]
  },
  {
   "cell_type": "code",
   "execution_count": 19,
   "metadata": {},
   "outputs": [
    {
     "name": "stdout",
     "output_type": "stream",
     "text": [
      "BOM Movie Gross Data:\n",
      "   Unnamed: 0            genre_ids     id original_language  \\\n",
      "0           0      [12, 14, 10751]  12444                en   \n",
      "1           1  [14, 12, 16, 10751]  10191                en   \n",
      "2           2        [12, 28, 878]  10138                en   \n",
      "3           3      [16, 35, 10751]    862                en   \n",
      "4           4        [28, 878, 12]  27205                en   \n",
      "\n",
      "                                 original_title  popularity release_date  \\\n",
      "0  Harry Potter and the Deathly Hallows: Part 1      33.533   19/11/2010   \n",
      "1                      How to Train Your Dragon      28.734   26/03/2010   \n",
      "2                                    Iron Man 2      28.515   07/05/2010   \n",
      "3                                     Toy Story      28.005   22/11/1995   \n",
      "4                                     Inception      27.920   16/07/2010   \n",
      "\n",
      "                                          title  vote_average  vote_count  \n",
      "0  Harry Potter and the Deathly Hallows: Part 1           7.7       10788  \n",
      "1                      How to Train Your Dragon           7.7        7610  \n",
      "2                                    Iron Man 2           6.8       12368  \n",
      "3                                     Toy Story           7.9       10174  \n",
      "4                                     Inception           8.3       22186  \n",
      "\n",
      "TMDB Movies Data:\n",
      "   Unnamed: 0            genre_ids     id original_language  \\\n",
      "0           0      [12, 14, 10751]  12444                en   \n",
      "1           1  [14, 12, 16, 10751]  10191                en   \n",
      "2           2        [12, 28, 878]  10138                en   \n",
      "3           3      [16, 35, 10751]    862                en   \n",
      "4           4        [28, 878, 12]  27205                en   \n",
      "\n",
      "                                 original_title  popularity release_date  \\\n",
      "0  Harry Potter and the Deathly Hallows: Part 1      33.533   2010-11-19   \n",
      "1                      How to Train Your Dragon      28.734   2010-03-26   \n",
      "2                                    Iron Man 2      28.515   2010-05-07   \n",
      "3                                     Toy Story      28.005   1995-11-22   \n",
      "4                                     Inception      27.920   2010-07-16   \n",
      "\n",
      "                                          title  vote_average  vote_count  \n",
      "0  Harry Potter and the Deathly Hallows: Part 1           7.7       10788  \n",
      "1                      How to Train Your Dragon           7.7        7610  \n",
      "2                                    Iron Man 2           6.8       12368  \n",
      "3                                     Toy Story           7.9       10174  \n",
      "4                                     Inception           8.3       22186  \n",
      "\n",
      "TN Movie Budgets Data:\n",
      "   id  release_date                                        movie  \\\n",
      "0   1  Dec 18, 2009                                       Avatar   \n",
      "1   2  May 20, 2011  Pirates of the Caribbean: On Stranger Tides   \n",
      "2   3   Jun 7, 2019                                 Dark Phoenix   \n",
      "3   4   May 1, 2015                      Avengers: Age of Ultron   \n",
      "4   5  Dec 15, 2017            Star Wars Ep. VIII: The Last Jedi   \n",
      "\n",
      "  production_budget domestic_gross worldwide_gross  \n",
      "0      $425,000,000   $760,507,625  $2,776,345,279  \n",
      "1      $410,600,000   $241,063,875  $1,045,663,875  \n",
      "2      $350,000,000    $42,762,350    $149,762,350  \n",
      "3      $330,600,000   $459,005,868  $1,403,013,963  \n",
      "4      $317,000,000   $620,181,382  $1,316,721,747  \n"
     ]
    }
   ],
   "source": [
    "##Loading data from the CSV files \n",
    "bom_movie_gross = pd.read_csv('bom.movie_gross.csv')\n",
    "print(\"BOM Movie Gross Data:\")\n",
    "print(bom_movie_gross.head())\n",
    "\n",
    "tmdb_movies = pd.read_csv('tmdb.movies.csv')\n",
    "print(\"\\nTMDB Movies Data:\")\n",
    "print(tmdb_movies.head())\n",
    "\n",
    "tn_movie_budgets = pd.read_csv('tn.movie_budgets.csv')\n",
    "print(\"\\nTN Movie Budgets Data:\")\n",
    "print(tn_movie_budgets.head())"
   ]
  },
  {
   "cell_type": "markdown",
   "metadata": {},
   "source": []
  },
  {
   "cell_type": "code",
   "execution_count": null,
   "metadata": {},
   "outputs": [],
   "source": []
  },
  {
   "cell_type": "code",
   "execution_count": null,
   "metadata": {},
   "outputs": [],
   "source": []
  }
 ],
 "metadata": {
  "kernelspec": {
   "display_name": "learn-env",
   "language": "python",
   "name": "python3"
  },
  "language_info": {
   "codemirror_mode": {
    "name": "ipython",
    "version": 3
   },
   "file_extension": ".py",
   "mimetype": "text/x-python",
   "name": "python",
   "nbconvert_exporter": "python",
   "pygments_lexer": "ipython3",
   "version": "3.10.13"
  }
 },
 "nbformat": 4,
 "nbformat_minor": 2
}
